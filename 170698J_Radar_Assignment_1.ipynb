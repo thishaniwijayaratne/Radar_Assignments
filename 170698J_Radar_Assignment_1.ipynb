{
  "nbformat": 4,
  "nbformat_minor": 0,
  "metadata": {
    "colab": {
      "name": "170698J_Radar_Assignment_1.ipynb",
      "provenance": [],
      "collapsed_sections": [],
      "authorship_tag": "ABX9TyMQtFoKo6OWxCFbR10ZlW9U",
      "include_colab_link": true
    },
    "kernelspec": {
      "name": "python3",
      "display_name": "Python 3"
    },
    "language_info": {
      "name": "python"
    }
  },
  "cells": [
    {
      "cell_type": "markdown",
      "metadata": {
        "id": "view-in-github",
        "colab_type": "text"
      },
      "source": [
        "<a href=\"https://colab.research.google.com/github/thishaniwijayaratne/Radar_Assignments/blob/master/170698J_Radar_Assignment_1.ipynb\" target=\"_parent\"><img src=\"https://colab.research.google.com/assets/colab-badge.svg\" alt=\"Open In Colab\"/></a>"
      ]
    },
    {
      "cell_type": "markdown",
      "source": [
        "# Introduction\n",
        "###### Testing text.\n",
        "\n",
        "# Methodology"
      ],
      "metadata": {
        "id": "Gj_pdTx5Jsop"
      }
    },
    {
      "cell_type": "code",
      "source": [
        "import numpy as np\n",
        "import pandas as pd\n",
        "import seaborn as sns\n",
        "import matplotlib.pyplot as plt\n",
        "import numpy as np\n",
        "import seaborn\n",
        "import matplotlib.pyplot as plt\n",
        "import cv2\n",
        "\n",
        "from google.colab import drive\n",
        "drive.mount('/content/drive')"
      ],
      "metadata": {
        "id": "BvkkRMV3JvBl",
        "colab": {
          "base_uri": "https://localhost:8080/"
        },
        "outputId": "b90a99bd-3cc9-4adc-a5d7-a5a676ad11b7"
      },
      "execution_count": 1,
      "outputs": [
        {
          "output_type": "stream",
          "name": "stdout",
          "text": [
            "Mounted at /content/drive\n"
          ]
        }
      ]
    },
    {
      "cell_type": "code",
      "source": [
        "# # Initializing Parameters\n",
        "# # Units stated\n",
        "raw_sampling_rate = 1080 * 1000 # Hz\n",
        "N_range_slots = 30  \n",
        "\n",
        "pulse_repetition_frequency = 1800  # Hz\n",
        "\n",
        "horizontal_beam_width = 2\n",
        "radar_rotation_speed = 12 # RPM\n",
        "\n",
        "Ts = 1/(N_range_slots*pulse_repetition_frequency) #Ts = 1/N*fr\n",
        "fs = 1/Ts \n",
        "sampling_factor = raw_sampling_rate/fs  # For downsampling\n",
        "\n",
        "N_pulses = int( 18000 * (pulse_repetition_frequency / raw_sampling_rate) )\n",
        "N_samples_per_pulse = int( 18000/N_pulses )\n",
        "\n",
        "sampling_indexs = np.linspace(1,18000, num = int(18000/sampling_factor)).astype(int)\n",
        "\n",
        "pulse_indexes = np.linspace(18000/N_pulses,18000,N_pulses).astype(int)\n",
        "# bin_indexes = \n",
        "\n",
        "# print(sampling_indexs)\n",
        "# print(sampling_indexs)"
      ],
      "metadata": {
        "id": "HDf8H7MUSyj5"
      },
      "execution_count": 31,
      "outputs": []
    },
    {
      "cell_type": "code",
      "source": [
        "# Importing csv files from Google Drive\n",
        "\n",
        "path1 = '/content/drive/MyDrive/Sem 8/Radar/raw_data1.csv'\n",
        "path2 = '/content/drive/MyDrive/Sem 8/Radar/raw_data2.csv'\n",
        "path3 = '/content/drive/MyDrive/Sem 8/Radar/raw_data3.csv'\n",
        "\n",
        "df1 = pd.read_csv(path1,header=None)\n",
        "df2 = pd.read_csv(path2,header=None)\n",
        "df3 = pd.read_csv(path3,header=None)\n",
        "\n",
        "# df1.head()\n",
        "# df2.head()\n",
        "# df3.head()\n",
        "\n",
        "data1 = np.array( list(df1[0]) )\n",
        "data2 = np.array( list(df2[0]) )\n",
        "data3 = np.array( list(df3[0]) )\n",
        "\n",
        "# Implementing Post detection integration\n",
        "Integrated_Data_Matrix = np.add(data1,(np.add(data2, data3)))\n"
      ],
      "metadata": {
        "id": "QHBemDPtIOCR"
      },
      "execution_count": 32,
      "outputs": []
    },
    {
      "cell_type": "code",
      "source": [
        "# Performing Down sampling\n",
        "\n",
        "integrated_down_sampled = np.zeros((900))\n",
        "# down_sampled_1 = np.zeros((900))\n",
        "# down_sampled_2 = np.zeros((900))\n",
        "# down_sampled_3 = np.zeros((900))\n",
        "\n",
        "for sample in range (0,(sampling_indexs.size-1)):\n",
        "  integrated_down_sampled[sample] = Integrated_Data_Matrix[sampling_indexs[sample]]\n",
        "  # down_sampled_1[sample] = data1[sampling_indexs[sample]]\n",
        "  # down_sampled_2[sample] = data2[sampling_indexs[sample]]\n",
        "  # down_sampled_3[sample] = data3[sampling_indexs[sample]]\n",
        "\n",
        "# print(down_sampled_1.shape)"
      ],
      "metadata": {
        "id": "Srl2Yo_dIToo"
      },
      "execution_count": 33,
      "outputs": []
    },
    {
      "cell_type": "code",
      "source": [
        "# Creating the Data Matrix\n",
        "Integrated_down_sampled_data_matrix = np.reshape(integrated_down_sampled, (30, 30))\n",
        "# Data_Matrix_1 = np.reshape(down_sampled_1, (30, 30))\n",
        "# Data_Matrix_2 = np.reshape(down_sampled_2, (30, 30))\n",
        "# Data_Matrix_3 = np.reshape(down_sampled_3, (30, 30))\n",
        "\n",
        "# Implementing Post detection integration\n",
        "# Integrated_Data_Matrix = np.add(Data_Matrix_1,(np.add(Data_Matrix_2, Data_Matrix_3)))\n",
        "\n",
        "# Implementing Threshold Detection\n",
        "\n",
        "# Defininf Parameters\n",
        "window_size = 21\n",
        "guard_band = 4\n",
        "standard_deviation_of_noise = 1\n",
        "k = 2.5\n",
        "\n",
        "Binary_Matrix = np.zeros((30,30))\n",
        "\n",
        "for bin in range(0,N_range_slots):\n",
        "  for pulse in range(0,N_pulses):\n",
        "\n",
        "    # V_avg_2 = np.sum(\n",
        "    \n",
        "    V_avg = (np.sum(Integrated_down_sampled_data_matrix[bin][(pulse - guard_band): (pulse - window_size)])  +  np.sum(Integrated_down_sampled_data_matrix[bin][(pulse + guard_band): (pulse + window_size)])) / (2 * (window_size - guard_band))\n",
        "    V_th = V_avg + (k * standard_deviation_of_noise)\n",
        "    if (Integrated_down_sampled_data_matrix[bin][pulse] >= V_th):\n",
        "      Binary_Matrix[bin][pulse] = 1\n",
        "    else:\n",
        "      Binary_Matrix[bin][pulse] = 0\n",
        "\n",
        "\n",
        "\n",
        "\n",
        "\n",
        "    # if (bin < window_size):\n",
        "    #   V_avg = (np.sum(Integrated_Data_Matrix[bin][(pulse + guard_band): (pulse + window_size)])) / (window_size - guard_band)\n",
        "    #   V_th = V_avg + (k * standard_deviation_of_noise)\n",
        "      \n",
        "    #   if (Integrated_Data_Matrix[bin][pulse] >= V_th):\n",
        "    #     Binary_Matrix[bin][pulse] = 1\n",
        "    #   else:\n",
        "    #     Binary_Matrix[bin][pulse] = 0\n",
        "\n",
        "    # elif (bin > (N_range_slots-window_size-1)):\n",
        "    #   V_avg = (np.sum(Integrated_Data_Matrix[bin][(pulse - guard_band): (pulse - window_size)])) / (window_size - guard_band)\n",
        "    #   V_th = V_avg + (k * standard_deviation_of_noise)\n",
        "    #   if (Integrated_Data_Matrix[bin][pulse] >= V_th):\n",
        "    #     Binary_Matrix[bin][pulse] = 1\n",
        "    #   else:\n",
        "    #     Binary_Matrix[bin][pulse] = 0\n",
        "    \n",
        "    # else:\n",
        "    #   V_avg = (np.sum(Integrated_Data_Matrix[bin][(pulse - guard_band): (pulse - window_size)])  +  np.sum(Integrated_Data_Matrix[bin][(pulse + guard_band): (pulse + window_size)])) / (2 * (window_size - guard_band))\n",
        "    #   V_th = V_avg + (k * standard_deviation_of_noise)\n",
        "    #   if (Integrated_Data_Matrix[bin][pulse] >= V_th):\n",
        "    #     Binary_Matrix[bin][pulse] = 1\n",
        "    #   else:\n",
        "    #     Binary_Matrix[bin][pulse] = 0\n"
      ],
      "metadata": {
        "id": "Q7z3TI2WIUCp"
      },
      "execution_count": 34,
      "outputs": []
    },
    {
      "cell_type": "code",
      "source": [
        "def Get_Heat_Map(Data_Matrix):\n",
        "    fig, ax = plt.subplots(figsize=(10,10))\n",
        "    # ax = sns.heatmap(Data_Matrix,cmap=\"YlGnBu\")\n",
        "    ax = sns.heatmap(Data_Matrix,annot=True,cmap=\"YlGnBu\")\n",
        "    plt.show()\n",
        "\n",
        "Get_Heat_Map(Binary_Matrix)"
      ],
      "metadata": {
        "id": "J8MltppYJJ2p",
        "colab": {
          "base_uri": "https://localhost:8080/",
          "height": 596
        },
        "outputId": "b14d52cb-bab3-4211-b920-8e68fa80933d"
      },
      "execution_count": 35,
      "outputs": [
        {
          "output_type": "display_data",
          "data": {
            "image/png": "[encoded data removed]",
            "text/plain": [
              "<Figure size 720x720 with 2 Axes>"
            ]
          },
          "metadata": {
            "needs_background": "light"
          }
        }
      ]
    },
    {
      "cell_type": "markdown",
      "source": [
        "If the number of pulses having '1' in a particular bin is higher than 50% of the bins, it can be decided that there is an object in that particular bin."
      ],
      "metadata": {
        "id": "0-F5TtLXfGXl"
      }
    },
    {
      "cell_type": "code",
      "source": [
        "# Removing Targets from the matrix\n",
        "Threshold = N_range_slots * 0.5\n",
        "count_of_1s = np.zeros((30,30))\n",
        "\n",
        "for bin in range(0,N_range_slots):\n",
        "  for pulse in range(0,N_pulses):\n"
      ],
      "metadata": {
        "id": "4HKHLUvJJJuZ"
      },
      "execution_count": 8,
      "outputs": []
    },
    {
      "cell_type": "code",
      "source": [
        "#Removing noise \n",
        "def get_noiseremoved(j,data):\n",
        "    for i in range(1,j+1):  #running multiple noice filters\n",
        "        row=data.shape[0]\n",
        "        col=data.shape[1]\n",
        "        d=np.zeros((row+i*2,col+i*2))\n",
        "        d[i:row+i,i:col+i]=data\n",
        "        for l in range(i,row+i):\n",
        "            for k in range(i,col+i):\n",
        "                d[l,k]=d[l,k]*int(sum(sum(d[l-i:l+i+1,k-i:k+i+1]))>i)\n",
        "        data=(d[i:row+i,i:col+i])\n",
        "    return(data)\n",
        "\n",
        "filtered_matrix=get_noiseremoved(30,get_noiseremoved(30,Binary_Matrix)) #filtering noise\n",
        "\"for low noise senarios skip this noise filtering and uncomment below line\"\n",
        "#filtered_matrix=targetremoved_matrix  \n",
        "\n",
        "#Visualizing noise filtered matrix\n",
        "print(\"Noise filtered data matrix:\")\n",
        "Get_Heat_Map(filtered_matrix)"
      ],
      "metadata": {
        "id": "na2F_U6g_Ex7",
        "colab": {
          "base_uri": "https://localhost:8080/",
          "height": 613
        },
        "outputId": "ad12cab2-9ced-48b6-e871-8add91272a16"
      },
      "execution_count": 9,
      "outputs": [
        {
          "output_type": "stream",
          "name": "stdout",
          "text": [
            "Noise filtered data matrix:\n"
          ]
        },
        {
          "output_type": "display_data",
          "data": {
            "image/png": "[encoded data removed]",
            "text/plain": [
              "<Figure size 720x720 with 2 Axes>"
            ]
          },
          "metadata": {
            "needs_background": "light"
          }
        }
      ]
    },
    {
      "cell_type": "code",
      "source": [
        ""
      ],
      "metadata": {
        "id": "bwHQmC4v_EvP"
      },
      "execution_count": null,
      "outputs": []
    },
    {
      "cell_type": "code",
      "source": [
        "d1 = np.array([[1,2,3],\n",
        "               [4,5,6]])\n",
        "\n",
        "d2 = np.array([[1,1,1],\n",
        "               [1,1,1]])\n",
        "\n",
        "d3 = np.array([[2,2,2],\n",
        "               [2,2,2]])\n",
        "\n",
        "d4 = np.add(d1,d2)\n",
        "np.sum(d1[1][0:2])"
      ],
      "metadata": {
        "colab": {
          "base_uri": "https://localhost:8080/"
        },
        "id": "Y4ikZBRQ_Er8",
        "outputId": "8d808799-1330-46bc-d652-b8e119c759d1"
      },
      "execution_count": null,
      "outputs": [
        {
          "output_type": "execute_result",
          "data": {
            "text/plain": [
              "9"
            ]
          },
          "metadata": {},
          "execution_count": 11
        }
      ]
    },
    {
      "cell_type": "code",
      "source": [
        ""
      ],
      "metadata": {
        "id": "yRK0uhqX_Eme"
      },
      "execution_count": null,
      "outputs": []
    },
    {
      "cell_type": "code",
      "source": [
        ""
      ],
      "metadata": {
        "id": "F88Kt_L2_Ef_"
      },
      "execution_count": null,
      "outputs": []
    },
    {
      "cell_type": "code",
      "source": [
        ""
      ],
      "metadata": {
        "id": "M_689RRZ_EaO"
      },
      "execution_count": null,
      "outputs": []
    },
    {
      "cell_type": "code",
      "source": [
        ""
      ],
      "metadata": {
        "id": "t2QrfkMF_ESe"
      },
      "execution_count": null,
      "outputs": []
    },
    {
      "cell_type": "code",
      "source": [
        ""
      ],
      "metadata": {
        "id": "QMimGkZBJJiK"
      },
      "execution_count": null,
      "outputs": []
    },
    {
      "cell_type": "code",
      "source": [
        ""
      ],
      "metadata": {
        "id": "28MVALT1jOue"
      },
      "execution_count": null,
      "outputs": []
    },
    {
      "cell_type": "code",
      "source": [
        ""
      ],
      "metadata": {
        "id": "H4JBvyaISn13"
      },
      "execution_count": null,
      "outputs": []
    },
    {
      "cell_type": "code",
      "source": [
        ""
      ],
      "metadata": {
        "id": "FgooyGoJ9RK3"
      },
      "execution_count": null,
      "outputs": []
    },
    {
      "cell_type": "code",
      "source": [
        ""
      ],
      "metadata": {
        "id": "klK6k45pErI3"
      },
      "execution_count": null,
      "outputs": []
    }
  ]
}